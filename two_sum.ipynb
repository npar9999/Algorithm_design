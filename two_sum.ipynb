{
  "nbformat": 4,
  "nbformat_minor": 0,
  "metadata": {
    "colab": {
      "name": "two_sum.ipynb",
      "provenance": [],
      "private_outputs": true,
      "authorship_tag": "ABX9TyODOJtoobSctB5V2C8U+qjL",
      "include_colab_link": true
    },
    "kernelspec": {
      "name": "python3",
      "display_name": "Python 3"
    }
  },
  "cells": [
    {
      "cell_type": "markdown",
      "metadata": {
        "id": "view-in-github",
        "colab_type": "text"
      },
      "source": [
        "<a href=\"https://colab.research.google.com/github/npar9999/Algorithm_design/blob/master/two_sum.ipynb\" target=\"_parent\"><img src=\"https://colab.research.google.com/assets/colab-badge.svg\" alt=\"Open In Colab\"/></a>"
      ]
    },
    {
      "cell_type": "code",
      "metadata": {
        "id": "lsi2grzPIC3j",
        "colab_type": "code",
        "colab": {}
      },
      "source": [
        "from bisect import bisect_left, bisect_right"
      ],
      "execution_count": 0,
      "outputs": []
    },
    {
      "cell_type": "code",
      "metadata": {
        "id": "d3Pd6RxbIcd9",
        "colab_type": "code",
        "colab": {}
      },
      "source": [
        "class TwoSum:\n",
        "  def __init__(self,input_file=None):\n",
        "    self._array = []\n",
        "    numbers = set()\n",
        "    self._target_values = 0\n",
        "    if input_file is None:\n",
        "      for number in input().split():\n",
        "        numbers.add(int(number))\n",
        "    else:\n",
        "      with open(input_file) as file:\n",
        "        for number in file.read().splitlines():\n",
        "          numbers.add(int(number))\n",
        "    self._array = sorted(numbers)\n",
        "\n",
        "  def compute_values(self):\n",
        "    target_values = set()\n",
        "    for num in self._array:\n",
        "      low = bisect_left(self._array,-10000 - num)\n",
        "      high = bisect_right(self._array, 10000 -num)\n",
        "      for pair_num in self._array[low:high]:\n",
        "        if pair_num != num:\n",
        "          target_values.add(num + pair_num)\n",
        "    return len(target_values)\n"
      ],
      "execution_count": 0,
      "outputs": []
    },
    {
      "cell_type": "code",
      "metadata": {
        "id": "R4qb40bpJUEo",
        "colab_type": "code",
        "colab": {}
      },
      "source": [
        "if __name__ == \"__main__\":\n",
        "    two_sum_finder = TwoSum(\"algopgm.txt\")\n",
        "    target_values = two_sum_finder.compute_values()\n",
        "    print(target_values)"
      ],
      "execution_count": 0,
      "outputs": []
    },
    {
      "cell_type": "code",
      "metadata": {
        "id": "Yizk-THVKNwg",
        "colab_type": "code",
        "colab": {}
      },
      "source": [
        ""
      ],
      "execution_count": 0,
      "outputs": []
    }
  ]
}