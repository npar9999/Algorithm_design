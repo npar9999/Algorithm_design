{
  "nbformat": 4,
  "nbformat_minor": 0,
  "metadata": {
    "colab": {
      "name": "Counting_inversion.ipynb",
      "provenance": [],
      "private_outputs": true,
      "authorship_tag": "ABX9TyO8E5x/wuiOjuC+rBVXv71W",
      "include_colab_link": true
    },
    "kernelspec": {
      "name": "python3",
      "display_name": "Python 3"
    }
  },
  "cells": [
    {
      "cell_type": "markdown",
      "metadata": {
        "id": "view-in-github",
        "colab_type": "text"
      },
      "source": [
        "<a href=\"https://colab.research.google.com/github/npar9999/Algorithm_design/blob/master/Counting_inversion.ipynb\" target=\"_parent\"><img src=\"https://colab.research.google.com/assets/colab-badge.svg\" alt=\"Open In Colab\"/></a>"
      ]
    },
    {
      "cell_type": "code",
      "metadata": {
        "id": "MPlew3bIUf4V",
        "colab_type": "code",
        "colab": {}
      },
      "source": [
        "with open('IntegerArray.txt') as f:\n",
        "  a = [int(x) for x in f]"
      ],
      "execution_count": 0,
      "outputs": []
    },
    {
      "cell_type": "code",
      "metadata": {
        "id": "lRZo3HSPUf1H",
        "colab_type": "code",
        "colab": {}
      },
      "source": [
        "len(a)"
      ],
      "execution_count": 0,
      "outputs": []
    },
    {
      "cell_type": "code",
      "metadata": {
        "id": "Yz2IlnH7VFds",
        "colab_type": "code",
        "colab": {}
      },
      "source": [
        "def CountSplitInversion(A,B): # left and right list\n",
        "  i = 0 \n",
        "  j = 0\n",
        "  count = 0\n",
        "  P = [] # results \n",
        "  while i<len(A) and j < len(B): # counter i checks left lenght , counter j checks right lenght\n",
        "    P.extend([min(A[i],B[j])]) # add results to new list \n",
        "    if A[i] < B[j]:\n",
        "      i = i + 1\n",
        "    else:\n",
        "      count +=len(A[i:])\n",
        "      j = j +1\n",
        "  P.extend(A[i:])\n",
        "  P.extend(B[j:])\n",
        "  return P,count\n"
      ],
      "execution_count": 0,
      "outputs": []
    },
    {
      "cell_type": "code",
      "metadata": {
        "id": "O_vTTcxmWTUm",
        "colab_type": "code",
        "colab": {}
      },
      "source": [
        "def sort_count(A):\n",
        "  n = len(A)\n",
        "  if n>1:\n",
        "    splitP = int(n/2)  # divide the list in 2 parts , do the split \n",
        "    B,X = sort_count(A[:-splitP]) # left \n",
        "    C,Y = sort_count(A[-splitP:]) # right \n",
        "    D,Z = CountSplitInversion(B,C) # sorted list \n",
        "    return D,X+Y+Z # return sorted list and count \n",
        "  else:\n",
        "    return A,0 "
      ],
      "execution_count": 0,
      "outputs": []
    },
    {
      "cell_type": "code",
      "metadata": {
        "id": "V3RvG3lRW6j7",
        "colab_type": "code",
        "colab": {}
      },
      "source": [
        "sort_count(a)"
      ],
      "execution_count": 0,
      "outputs": []
    },
    {
      "cell_type": "code",
      "metadata": {
        "id": "k2CQvstHXByy",
        "colab_type": "code",
        "colab": {}
      },
      "source": [
        ""
      ],
      "execution_count": 0,
      "outputs": []
    }
  ]
}