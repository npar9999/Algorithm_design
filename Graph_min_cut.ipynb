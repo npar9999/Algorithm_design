{
  "nbformat": 4,
  "nbformat_minor": 0,
  "metadata": {
    "colab": {
      "name": "Graph_min_cut.ipynb",
      "provenance": [],
      "private_outputs": true,
      "collapsed_sections": [],
      "toc_visible": true,
      "authorship_tag": "ABX9TyOYs5Ej9MrO5kofzfenknB1",
      "include_colab_link": true
    },
    "kernelspec": {
      "name": "python3",
      "display_name": "Python 3"
    }
  },
  "cells": [
    {
      "cell_type": "markdown",
      "metadata": {
        "id": "view-in-github",
        "colab_type": "text"
      },
      "source": [
        "<a href=\"https://colab.research.google.com/github/npar9999/Algorithm_design/blob/master/Graph_min_cut.ipynb\" target=\"_parent\"><img src=\"https://colab.research.google.com/assets/colab-badge.svg\" alt=\"Open In Colab\"/></a>"
      ]
    },
    {
      "cell_type": "markdown",
      "metadata": {
        "id": "0WITJuR0_Tiz",
        "colab_type": "text"
      },
      "source": [
        "##Krager Min cut"
      ]
    },
    {
      "cell_type": "code",
      "metadata": {
        "id": "kfv0E8KTrrX0",
        "colab_type": "code",
        "colab": {}
      },
      "source": [
        "from random import randint\n"
      ],
      "execution_count": 0,
      "outputs": []
    },
    {
      "cell_type": "code",
      "metadata": {
        "id": "U9ZovdHBrva8",
        "colab_type": "code",
        "colab": {}
      },
      "source": [
        "class KargerMinCutter:\n",
        "  def __init__(self,graph_file):\n",
        "    self._graph = {}\n",
        "    self._total_edges = 0 \n",
        "    with open(graph_file) as file:\n",
        "      for index , line in enumerate(file):\n",
        "        number = [int(number) for number in line.split()]\n",
        "        self._graph[number[0]] = number[1:]\n",
        "        self._total_edges  += len(number[1:])\n",
        "\n",
        "   def find_min_cut(self):\n",
        "     min_cut = 0\n",
        "     while len(self._graph) > 2:\n",
        "       v1, v2 = self._pick_random_edge()\n",
        "       self._total_edges -= len(self._graph[v1])\n",
        "       self._total_edges -= len(self._graph[v2])\n",
        "       slef._graph[v1].extend(self._graph[v2])\n",
        "       for vertex in self._graph[v2]:\n",
        "         self._graph[vertex].remove(v2)\n",
        "         self._graph[vertex].append(v1)\n",
        "       self._graph[v1] = list(filter(lambda v: v != v1,self._graph[v1]))\n",
        "       self._total_edges  += len(self._graph[v1])\n",
        "       self._graph.pop(v2)\n",
        "       for edges in self._graph.values():\n",
        "         min_cut = len(edges)\n",
        "     return min_cut\n",
        "\n",
        "   def _pick_random_edge(self):\n",
        "     rand_edge = randint(0,self.total_edges -1)\n",
        "     for vertex , vertex_edges in self._graph.items()\n",
        "     if len(vertex_edges) <= rand_edge:\n",
        "       rand_edge -= len(vertex_edges)\n",
        "     else:\n",
        "       from_vertex = vertex \n",
        "       to_vertex = vertex_edges[rand_edge]\n",
        "       return from_vertex , to_vertex\n",
        "\n",
        "\n",
        "if __name__ = \"__main__\":\n",
        "  min_cut = 99999\n",
        "  for in in range(40000):\n",
        "    min_cutter = KargerMinCutter('Kargermincut.txt')\n",
        "    cut = min_cutter.find_min_cut()\n",
        "    if cut < min_cut :\n",
        "      min_cut = cut \n",
        "    print(min_cut)\n",
        "\n",
        "    \n",
        "\n",
        "\n",
        "\n",
        "\n",
        "\n"
      ],
      "execution_count": 0,
      "outputs": []
    }
  ]
}