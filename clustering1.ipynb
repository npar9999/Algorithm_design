{
  "nbformat": 4,
  "nbformat_minor": 0,
  "metadata": {
    "colab": {
      "name": "clustering1.ipynb",
      "provenance": [],
      "private_outputs": true,
      "authorship_tag": "ABX9TyM99n+S0L3ASVl5g0Ex0bFM",
      "include_colab_link": true
    },
    "kernelspec": {
      "name": "python3",
      "display_name": "Python 3"
    }
  },
  "cells": [
    {
      "cell_type": "markdown",
      "metadata": {
        "id": "view-in-github",
        "colab_type": "text"
      },
      "source": [
        "<a href=\"https://colab.research.google.com/github/npar9999/Algorithm_design/blob/master/clustering1.ipynb\" target=\"_parent\"><img src=\"https://colab.research.google.com/assets/colab-badge.svg\" alt=\"Open In Colab\"/></a>"
      ]
    },
    {
      "cell_type": "code",
      "metadata": {
        "id": "QNmiNkkZhjYS",
        "colab_type": "code",
        "colab": {}
      },
      "source": [
        "edges = [map(int, x.split(' ')) for x in open('clustering1.txt', 'r').read().split('\\n')[1:-1]]\n",
        "\n",
        "edges.sort(key=lambda x: x[2])\n",
        "\n",
        "vertices = {}\n",
        "for edge in edges:\n",
        "    vertices[edge[0]] = edge[0]\n",
        "    vertices[edge[1]] = edge[1]\n",
        "\n",
        "costs = {}\n",
        "for v in vertices:\n",
        "    costs[v] = 0\n",
        "\n",
        "cluster_count = len(vertices)\n",
        "\n",
        "for edge in edges:\n",
        "    head1 = vertices[edge[0]]\n",
        "    while vertices[head1] != head1:\n",
        "        head1 = vertices[head1] \n",
        "\n",
        "    head2 = vertices[edge[1]]\n",
        "    while vertices[head2] != head2:\n",
        "        head2 = vertices[head2] \n",
        "\n",
        "    if head1 != head2:\n",
        "        if cluster_count <= 4:\n",
        "            spacing_distance = edge[2]\n",
        "            break\n",
        "        vertices[head2] = head1\n",
        "        costs[head1] += (edge[2] + costs[head2])\n",
        "        cluster_count -= 1\n",
        "\n",
        "print spacing_distance\n"
      ],
      "execution_count": 0,
      "outputs": []
    },
    {
      "cell_type": "code",
      "metadata": {
        "id": "QDaMZMezkb1V",
        "colab_type": "code",
        "colab": {}
      },
      "source": [
        "#download file from internet\n",
        "import urllib\n",
        "\n",
        "testfile = urllib.URLopener()\n",
        "testfile.retrieve(\"http://spark-public.s3.amazonaws.com/algo2/datasets/clustering_big.txt\", \"clustering_big.txt\")\n",
        "\n",
        "#computing simple numbers\n",
        "hamm=[0]*300\n",
        "k=0\n",
        "for i in range(24):\n",
        "    for j in range(i,24):\n",
        "        mask=1 << i\n",
        "        mask2 = 1 << j\n",
        "        hamm[k]=mask|mask2\n",
        "        k=k+1\n",
        "\n",
        "#function that computes neighbors for the given point\n",
        "def neighbors(x):\n",
        "    result = []\n",
        "    for i in hamm:\n",
        "        if points[x^i] !=0:\n",
        "            result.append(x^i)\n",
        "    return result\n",
        "\n",
        "#reading the data into arrays points and index\n",
        "points = [0]*pow(2,24)\n",
        "index=[]\n",
        "from timeit import default_timer as timer\n",
        "start=timer()\n",
        "\n",
        "with open(\"clustering_big.txt\") as f:\n",
        "    next(f)\n",
        "    cluster=1\n",
        "    for line in f:\n",
        "        curindex=int(line.replace(' ',''), base = 2)\n",
        "        index.append(curindex)\n",
        "        points[curindex]=cluster\n",
        "        cluster=cluster+1\n",
        "\n",
        "readend=timer()\n",
        "print(\"reading data:\",readend-start)\n",
        "\n",
        "#performing clustering\n",
        "names=[0]\n",
        "loopstart=timer()\n",
        "for i in index:\n",
        "    if points[i] in names:\n",
        "        continue\n",
        "    nclust=[i]\n",
        "    while len(nclust)!=0:\n",
        "        nnclust=[]\n",
        "        for dot in nclust:\n",
        "            for ind in neighbors(dot):\n",
        "                if points[ind]!=points[i]:\n",
        "                    nnclust.append(ind)\n",
        "                    points[ind]=points[i]\n",
        "        nclust=nnclust\n",
        "    names.append(points[i])\n",
        "end=timer()\n",
        "print(\"loop time\", end-loopstart)\n",
        "print(\"total time\", end-start)\n",
        "print(len(names)-1)"
      ],
      "execution_count": 0,
      "outputs": []
    }
  ]
}