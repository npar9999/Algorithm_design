{
  "nbformat": 4,
  "nbformat_minor": 0,
  "metadata": {
    "colab": {
      "name": "Dijkstra_expand.ipynb",
      "provenance": [],
      "private_outputs": true,
      "authorship_tag": "ABX9TyMHMgqAHYWqqN77MEexOVVY",
      "include_colab_link": true
    },
    "kernelspec": {
      "name": "python3",
      "display_name": "Python 3"
    }
  },
  "cells": [
    {
      "cell_type": "markdown",
      "metadata": {
        "id": "view-in-github",
        "colab_type": "text"
      },
      "source": [
        "<a href=\"https://colab.research.google.com/github/npar9999/Algorithm_design/blob/master/Dijkstra_expand.ipynb\" target=\"_parent\"><img src=\"https://colab.research.google.com/assets/colab-badge.svg\" alt=\"Open In Colab\"/></a>"
      ]
    },
    {
      "cell_type": "code",
      "metadata": {
        "id": "22DvgA2IIW1A",
        "colab_type": "code",
        "colab": {}
      },
      "source": [
        "with open('dijkstraData.txt') as file:\n",
        "  data = []\n",
        "  list_data = [] # list of all records\n",
        "  node_list = [] # list of all nodes\n",
        "  u = []\n",
        "  v = []\n",
        "  data_u = []\n",
        "  data_v = []\n",
        "  dict_nested = []\n",
        "  list_nested = []\n",
        "  for line in file :\n",
        "    if len(line) >1:\n",
        "      data = line.split()\n",
        "      list_data.append(data)\n",
        "\n",
        "  for i in range(len(list_data)):\n",
        "    node_list.append(i+1) # create all nodes (1-200)\n",
        "    del list_data[i][0] \n",
        "    \n",
        "    for j in range(len(list_data[i])):\n",
        "      u,v = list_data[i][j].split(',')\n",
        "      data_u.append(int(u))\n",
        "      data_v.append(int(v))\n",
        "\n",
        "    list_nested.append(dict(zip(data_u,data_v)))\n",
        "    data_u,data_v = [],[]\n",
        "\n",
        "  dict_nested = dict(zip(node_list,list_nested))\n",
        "\n",
        "file.close()\n",
        "\n",
        "def dijkstra():\n",
        "  scores = []\n",
        "  V = node_list \n",
        "  X = [1]     #vertices processed so far\n",
        "  A = {}  # compute shortest path\n",
        "  A[1] = 0\n",
        "  data_v = []\n",
        "  data_w = []\n",
        "\n",
        "  while X != V:\n",
        "    for v in X: \n",
        "      for w in dict_nested[v].keys():\n",
        "        if w not in A:\n",
        "          data_v.append(v)\n",
        "          data_w.append(w)\n",
        "          scores.append(A[v] + dict_nested[v][w])\n",
        "\n",
        "    find_w = 0\n",
        "    find_w = data_w[scores.index(min(scores))]\n",
        "    X.append(find_w)\n",
        "    A[find_w] = min(scores)\n",
        "    X.sort()\n",
        "    scores = []\n",
        "    data_v = []\n",
        "    data_w = []\n",
        "\n",
        "  temp = []\n",
        "\n",
        "  for keys in [7,37,59,82,99,115,133,165,188,197]:\n",
        "    temp.append(A[keys])\n",
        "\n",
        "  print(temp)\n",
        "\n",
        "dijkstra()\n",
        "\n",
        "\n",
        "\n",
        "\n",
        "\n",
        "\n",
        "\n",
        "\n",
        "\n",
        "\n",
        "\n",
        "    \n",
        "\n",
        "  \n",
        "\n",
        "  "
      ],
      "execution_count": 0,
      "outputs": []
    },
    {
      "cell_type": "code",
      "metadata": {
        "id": "RwB2JR59SFxf",
        "colab_type": "code",
        "colab": {}
      },
      "source": [
        "#class implimentation"
      ],
      "execution_count": 0,
      "outputs": []
    },
    {
      "cell_type": "code",
      "metadata": {
        "id": "fdXI8m6CSLVN",
        "colab_type": "code",
        "colab": {}
      },
      "source": [
        "from ast import literal_eval"
      ],
      "execution_count": 0,
      "outputs": []
    },
    {
      "cell_type": "code",
      "metadata": {
        "id": "bak1Dza_SLPs",
        "colab_type": "code",
        "colab": {}
      },
      "source": [
        "class DijkstraPathFinder:\n",
        "\n",
        "    def __init__(self, input_file):\n",
        "        self.graph = {}\n",
        "        with open(input_file) as file:\n",
        "            for line in file:\n",
        "                line_content = line.split()\n",
        "                self.graph[int(line_content[0])] = [literal_eval(edge) for edge in line_content[1:]]\n",
        "        self._source_vertex = next(iter(self.graph.keys()))\n",
        "\n",
        "    def compute_shortest_paths(self, source=None):\n",
        "        if source is None:\n",
        "            source = self._source_vertex\n",
        "        shortest_paths = {}\n",
        "        visited = set()\n",
        "        for vertex in self.graph.keys():\n",
        "            shortest_paths[vertex] = (9999999999, [])\n",
        "        shortest_paths[source] = (0, [])\n",
        "        visited.add(source)\n",
        "        while set(self.graph.keys() - visited):\n",
        "            source, min_edge = -1, ()\n",
        "            for vertex in visited:\n",
        "                for edge in self.graph[vertex]:\n",
        "                    if edge[0] in visited:\n",
        "                        continue\n",
        "                    if not min_edge or shortest_paths[vertex][0] + edge[1] < min_edge[1]:\n",
        "                        min_edge = (edge[0], shortest_paths[vertex][0] + edge[1])\n",
        "                        source = vertex\n",
        "            shortest_paths[min_edge[0]] = (min_edge[1], shortest_paths[source][1] + [min_edge[0]])\n",
        "            visited.add(min_edge[0])\n",
        "        return shortest_paths\n",
        "\n",
        "if __name__ == '__main__':\n",
        "    path_finder = DijkstraPathFinder('dijkstraData.txt')\n",
        "    paths = path_finder.compute_shortest_paths()\n",
        "    actual = {vertex: distance[0] for (vertex, distance) in paths.items()}\n",
        "    print(actual[7])\n",
        "    print(actual[37])\n",
        "    print(actual[59])\n",
        "    print(actual[82])\n",
        "    print(actual[99])\n",
        "    print(actual[115])\n",
        "    print(actual[133])\n",
        "    print(actual[165])\n",
        "    print(actual[188])\n",
        "    print(actual[197])"
      ],
      "execution_count": 0,
      "outputs": []
    },
    {
      "cell_type": "code",
      "metadata": {
        "id": "omy8ejsiSLOa",
        "colab_type": "code",
        "colab": {}
      },
      "source": [
        "#path_finder.graph"
      ],
      "execution_count": 0,
      "outputs": []
    },
    {
      "cell_type": "code",
      "metadata": {
        "id": "c9zaTmQWSLJv",
        "colab_type": "code",
        "colab": {}
      },
      "source": [
        ""
      ],
      "execution_count": 0,
      "outputs": []
    },
    {
      "cell_type": "code",
      "metadata": {
        "id": "JwKeRdvPSLIi",
        "colab_type": "code",
        "colab": {}
      },
      "source": [
        ""
      ],
      "execution_count": 0,
      "outputs": []
    },
    {
      "cell_type": "code",
      "metadata": {
        "id": "N836-3JwJzkx",
        "colab_type": "code",
        "colab": {}
      },
      "source": [
        "#list_nested"
      ],
      "execution_count": 0,
      "outputs": []
    },
    {
      "cell_type": "code",
      "metadata": {
        "id": "6CrMYxxnKrbU",
        "colab_type": "code",
        "colab": {}
      },
      "source": [
        ""
      ],
      "execution_count": 0,
      "outputs": []
    }
  ]
}