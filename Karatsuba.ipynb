{
  "nbformat": 4,
  "nbformat_minor": 0,
  "metadata": {
    "colab": {
      "name": "Karatsuba.ipynb",
      "provenance": [],
      "private_outputs": true,
      "authorship_tag": "ABX9TyOk9XSPdD/Lfkt14HR2IE/J",
      "include_colab_link": true
    },
    "kernelspec": {
      "name": "python3",
      "display_name": "Python 3"
    }
  },
  "cells": [
    {
      "cell_type": "markdown",
      "metadata": {
        "id": "view-in-github",
        "colab_type": "text"
      },
      "source": [
        "<a href=\"https://colab.research.google.com/github/npar9999/Algorithm_design/blob/master/Karatsuba.ipynb\" target=\"_parent\"><img src=\"https://colab.research.google.com/assets/colab-badge.svg\" alt=\"Open In Colab\"/></a>"
      ]
    },
    {
      "cell_type": "code",
      "metadata": {
        "id": "gx0xfFFAS2qK",
        "colab_type": "code",
        "colab": {}
      },
      "source": [
        "def karatsuba(num1,num2):\n",
        "  num1Str = str(num1)\n",
        "  num2Str = str(num2)\n",
        "  if (num1 < 10) or (num2 < 10):\n",
        "        return num1*num2\n",
        "\n",
        "  maxLength = max(len(num1Str), len(num2Str))\n",
        "  splitPosition = maxLength / 2\n",
        "  splitPosition = int(splitPosition)\n",
        "  high1, low1= int(num1Str[:-splitPosition]), int(num1Str[-splitPosition:])\n",
        "  high2, low2= int(num2Str[:-splitPosition]), int(num2Str[-splitPosition:])\n",
        "  z0 = karatsuba(low1, low2)\n",
        "  z1 = karatsuba((low1 + high1), (low2 + high2))\n",
        "  z2 = karatsuba(high1, high2)\n",
        "\n",
        "  return (z2*10**(2*splitPosition)) + ((z1-z2-z0)*10**(splitPosition))+z0\n",
        "    "
      ],
      "execution_count": 0,
      "outputs": []
    },
    {
      "cell_type": "code",
      "metadata": {
        "id": "Tbc008YZU_gz",
        "colab_type": "code",
        "colab": {}
      },
      "source": [
        "num1 = 3141592653589793238462643383279502884197169399375105820974944592"
      ],
      "execution_count": 0,
      "outputs": []
    },
    {
      "cell_type": "code",
      "metadata": {
        "id": "rIpiEKIwVGoh",
        "colab_type": "code",
        "colab": {}
      },
      "source": [
        "num2 = 2718281828459045235360287471352662497757247093699959574966967627"
      ],
      "execution_count": 0,
      "outputs": []
    },
    {
      "cell_type": "code",
      "metadata": {
        "id": "S8qCkVR2VKRE",
        "colab_type": "code",
        "colab": {}
      },
      "source": [
        "karatsuba(num1,num2)"
      ],
      "execution_count": 0,
      "outputs": []
    },
    {
      "cell_type": "code",
      "metadata": {
        "id": "87FzNXesVMqY",
        "colab_type": "code",
        "colab": {}
      },
      "source": [
        ""
      ],
      "execution_count": 0,
      "outputs": []
    }
  ]
}