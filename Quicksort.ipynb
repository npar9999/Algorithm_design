{
  "nbformat": 4,
  "nbformat_minor": 0,
  "metadata": {
    "colab": {
      "name": "Quicksort.ipynb",
      "provenance": [],
      "private_outputs": true,
      "authorship_tag": "ABX9TyNxleHcFiq6jNujQ/MwI0Lr",
      "include_colab_link": true
    },
    "kernelspec": {
      "name": "python3",
      "display_name": "Python 3"
    }
  },
  "cells": [
    {
      "cell_type": "markdown",
      "metadata": {
        "id": "view-in-github",
        "colab_type": "text"
      },
      "source": [
        "<a href=\"https://colab.research.google.com/github/npar9999/Algorithm_design/blob/master/Quicksort.ipynb\" target=\"_parent\"><img src=\"https://colab.research.google.com/assets/colab-badge.svg\" alt=\"Open In Colab\"/></a>"
      ]
    },
    {
      "cell_type": "markdown",
      "metadata": {
        "id": "bNbSeXIlpPpw",
        "colab_type": "text"
      },
      "source": [
        ""
      ]
    },
    {
      "cell_type": "code",
      "metadata": {
        "id": "Tnxu3NMgmynm",
        "colab_type": "code",
        "colab": {}
      },
      "source": [
        "class QuickSorter(object):\n",
        "    def __init__(self, input_file=None):\n",
        "        self._comparisons = 0\n",
        "        self._array = []\n",
        "        self._inversions = 0\n",
        "        self.read_input(input_file)\n",
        "\n",
        "    @property\n",
        "    def comparisons(self):\n",
        "        return self._comparisons\n",
        "\n",
        "    @property\n",
        "    def array(self):\n",
        "        return self._array\n",
        "\n",
        "    @array.setter\n",
        "    def array(self, arr):\n",
        "        self._array = arr\n",
        "\n",
        "    def read_input(self, input_file=None):\n",
        "        if input_file is None:\n",
        "            self._array = [int(elem) for elem in input().split()]\n",
        "            return\n",
        "        with open(input_file) as numbers:\n",
        "            for number in numbers:\n",
        "                self._array.append(int(number))\n",
        "\n",
        "    def sort(self):\n",
        "        if len(self._array) <= 1:\n",
        "            return\n",
        "        self._qsort(0, len(self._array) - 1)\n",
        "\n",
        "    def _qsort(self, start, end):\n",
        "        if start >= end:\n",
        "            return\n",
        "        pivot = self.partition(start, end)\n",
        "        self._qsort(start, pivot - 1)\n",
        "        self._qsort(pivot + 1, end)\n",
        "\n",
        "    def partition(self, start, end):\n",
        "        self._comparisons += end - start\n",
        "        pivot = start\n",
        "        for i in range(start + 1, end + 1):\n",
        "            if self._array[i] < self._array[start]:\n",
        "                pivot += 1\n",
        "                self._array[i], self._array[pivot] = self._array[pivot], self._array[i]\n",
        "        self._array[start], self._array[pivot] = self._array[pivot], self._array[start]\n",
        "        return pivot\n",
        "\n",
        "\n",
        "class QuickSorterFirstElementPivot(QuickSorter):\n",
        "    def partition(self, start, end):\n",
        "        return super(QuickSorterFirstElementPivot, self).partition(start, end)\n",
        "\n",
        "\n",
        "class QuickSorterLastElementPivot(QuickSorter):\n",
        "    def partition(self, start, end):\n",
        "        self._array[start], self._array[end] = self._array[end], self._array[start]\n",
        "        return super(QuickSorterLastElementPivot, self).partition(start, end)\n",
        "\n",
        "\n",
        "class QuickSorterMedianElementPivot(QuickSorter):\n",
        "    def partition(self, start, end):\n",
        "        self._choose_median_pivot(start, end)\n",
        "        return super(QuickSorterMedianElementPivot, self).partition(start, end)\n",
        "\n",
        "    def _choose_median_pivot(self, start, end):\n",
        "        length = end - start + 1\n",
        "        median_index = length // 2 - 1 if length % 2 == 0 else length // 2\n",
        "        median = start + median_index\n",
        "        if self._array[start] <= self._array[median] <= self._array[end] or self._array[end] <= self._array[median] <= \\\n",
        "                self._array[start]:\n",
        "            self._array[start], self._array[median] = self._array[median], self._array[start]\n",
        "        elif self._array[median] <= self._array[end] <= self._array[start] or self._array[start] <= self._array[end] <= \\\n",
        "                self._array[median]:\n",
        "            self._array[start], self._array[end] = self._array[end], self._array[start]\n",
        "\n",
        "if __name__ == '__main__':\n",
        "    sorters = (QuickSorterFirstElementPivot('assignment_2.txt'),\n",
        "               QuickSorterLastElementPivot('assignment_2.txt'),\n",
        "               QuickSorterMedianElementPivot('assignment_2.txt'))\n",
        "    for sorter in sorters:\n",
        "        sorter.sort()\n",
        "    print(sorters[0].comparisons, sorters[1].comparisons, sorters[2].comparisons)"
      ],
      "execution_count": 0,
      "outputs": []
    },
    {
      "cell_type": "code",
      "metadata": {
        "id": "zSMABT15nOb-",
        "colab_type": "code",
        "colab": {}
      },
      "source": [
        "class QuickSort(object):\n",
        "  def __init__(self,input_file=None):\n",
        "    self._comparisions = 0\n",
        "    self._array = []\n",
        "    sefl._inversions = 0\n",
        "    self.read_input(input_file)\n",
        "\n",
        "  @property\n",
        "    def comparisions(self):\n",
        "        return self._comparisions\n",
        "        \n"
      ],
      "execution_count": 0,
      "outputs": []
    }
  ]
}